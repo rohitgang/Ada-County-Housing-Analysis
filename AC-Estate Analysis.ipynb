{
 "cells": [
  {
   "cell_type": "code",
   "execution_count": 1,
   "metadata": {},
   "outputs": [],
   "source": [
    "import pandas as pd\n",
    "import numpy as np\n",
    "import math\n",
    "from pprint import pprint\n",
    "import dataClean as dc\n",
    "import matplotlib.pyplot as plt\n",
    "import seaborn as sns"
   ]
  },
  {
   "cell_type": "markdown",
   "metadata": {},
   "source": [
    "## Set path as per pickle file location"
   ]
  },
  {
   "cell_type": "code",
   "execution_count": 2,
   "metadata": {},
   "outputs": [],
   "source": [
    "path= 'LandResParselID.pkl'"
   ]
  },
  {
   "cell_type": "code",
   "execution_count": 3,
   "metadata": {},
   "outputs": [
    {
     "data": {
      "text/html": [
       "<div>\n",
       "<style scoped>\n",
       "    .dataframe tbody tr th:only-of-type {\n",
       "        vertical-align: middle;\n",
       "    }\n",
       "\n",
       "    .dataframe tbody tr th {\n",
       "        vertical-align: top;\n",
       "    }\n",
       "\n",
       "    .dataframe thead th {\n",
       "        text-align: right;\n",
       "    }\n",
       "</style>\n",
       "<table border=\"1\" class=\"dataframe\">\n",
       "  <thead>\n",
       "    <tr style=\"text-align: right;\">\n",
       "      <th></th>\n",
       "      <th>Parcel</th>\n",
       "      <th>Price Hist</th>\n",
       "      <th>Street</th>\n",
       "      <th>SideWalks</th>\n",
       "      <th>Curb-Gutters</th>\n",
       "      <th>Corner</th>\n",
       "      <th>isCommercial</th>\n",
       "      <th>Year Built</th>\n",
       "      <th>Commercial Group Type</th>\n",
       "      <th>Remodel Year</th>\n",
       "      <th>...</th>\n",
       "      <th>Pool Sq Ft</th>\n",
       "      <th>Total Sq Ft</th>\n",
       "      <th>Main Floor Sq Ft</th>\n",
       "      <th>Upper Floor Sq Ft</th>\n",
       "      <th>Finished Lower Sq Ft</th>\n",
       "      <th>Unfinished Lower Sq Ft</th>\n",
       "      <th>Finished Basement Floor Sq Ft</th>\n",
       "      <th>Unfinished Basement Floor Sq Ft</th>\n",
       "      <th>Finished Attic Sq Ft</th>\n",
       "      <th>Unfinished Attic Sq Ft</th>\n",
       "    </tr>\n",
       "  </thead>\n",
       "  <tbody>\n",
       "    <tr>\n",
       "      <th>0</th>\n",
       "      <td>R8394770330</td>\n",
       "      <td>{'2019': '2,595,200', '2018': '2,521,100', '20...</td>\n",
       "      <td>Not</td>\n",
       "      <td></td>\n",
       "      <td>N</td>\n",
       "      <td></td>\n",
       "      <td>1</td>\n",
       "      <td></td>\n",
       "      <td>OFFICE</td>\n",
       "      <td>0</td>\n",
       "      <td>...</td>\n",
       "      <td></td>\n",
       "      <td></td>\n",
       "      <td></td>\n",
       "      <td></td>\n",
       "      <td></td>\n",
       "      <td></td>\n",
       "      <td></td>\n",
       "      <td></td>\n",
       "      <td></td>\n",
       "      <td></td>\n",
       "    </tr>\n",
       "    <tr>\n",
       "      <th>1</th>\n",
       "      <td>R8394770010</td>\n",
       "      <td>{'2019': '431,800', '2018': '377,300', '2017':...</td>\n",
       "      <td>Not</td>\n",
       "      <td></td>\n",
       "      <td>N</td>\n",
       "      <td></td>\n",
       "      <td>1</td>\n",
       "      <td>2014</td>\n",
       "      <td></td>\n",
       "      <td></td>\n",
       "      <td>...</td>\n",
       "      <td>0</td>\n",
       "      <td>1879</td>\n",
       "      <td>1444</td>\n",
       "      <td>435</td>\n",
       "      <td></td>\n",
       "      <td></td>\n",
       "      <td></td>\n",
       "      <td>0</td>\n",
       "      <td>0</td>\n",
       "      <td></td>\n",
       "    </tr>\n",
       "    <tr>\n",
       "      <th>2</th>\n",
       "      <td>R8394770030</td>\n",
       "      <td>{'2019': '355,900', '2018': '309,800', '2017':...</td>\n",
       "      <td>Not</td>\n",
       "      <td></td>\n",
       "      <td>N</td>\n",
       "      <td></td>\n",
       "      <td>1</td>\n",
       "      <td>2014</td>\n",
       "      <td></td>\n",
       "      <td></td>\n",
       "      <td>...</td>\n",
       "      <td>0</td>\n",
       "      <td>1562</td>\n",
       "      <td>1562</td>\n",
       "      <td>0</td>\n",
       "      <td></td>\n",
       "      <td></td>\n",
       "      <td></td>\n",
       "      <td>0</td>\n",
       "      <td>0</td>\n",
       "      <td></td>\n",
       "    </tr>\n",
       "    <tr>\n",
       "      <th>3</th>\n",
       "      <td>R8394770050</td>\n",
       "      <td>{'2019': '403,900', '2018': '352,800', '2017':...</td>\n",
       "      <td>Not</td>\n",
       "      <td></td>\n",
       "      <td>N</td>\n",
       "      <td></td>\n",
       "      <td>1</td>\n",
       "      <td>2014</td>\n",
       "      <td></td>\n",
       "      <td></td>\n",
       "      <td>...</td>\n",
       "      <td>0</td>\n",
       "      <td>1686</td>\n",
       "      <td>1109</td>\n",
       "      <td>577</td>\n",
       "      <td></td>\n",
       "      <td></td>\n",
       "      <td></td>\n",
       "      <td>0</td>\n",
       "      <td>0</td>\n",
       "      <td></td>\n",
       "    </tr>\n",
       "    <tr>\n",
       "      <th>4</th>\n",
       "      <td>R8394770070</td>\n",
       "      <td>{'2019': '0', '2018': '0', '2017': '0', '2016'...</td>\n",
       "      <td>Not</td>\n",
       "      <td></td>\n",
       "      <td>N</td>\n",
       "      <td></td>\n",
       "      <td>1</td>\n",
       "      <td></td>\n",
       "      <td></td>\n",
       "      <td></td>\n",
       "      <td>...</td>\n",
       "      <td></td>\n",
       "      <td></td>\n",
       "      <td></td>\n",
       "      <td></td>\n",
       "      <td></td>\n",
       "      <td></td>\n",
       "      <td></td>\n",
       "      <td></td>\n",
       "      <td></td>\n",
       "      <td></td>\n",
       "    </tr>\n",
       "  </tbody>\n",
       "</table>\n",
       "<p>5 rows × 37 columns</p>\n",
       "</div>"
      ],
      "text/plain": [
       "        Parcel                                         Price Hist Street  \\\n",
       "0  R8394770330  {'2019': '2,595,200', '2018': '2,521,100', '20...    Not   \n",
       "1  R8394770010  {'2019': '431,800', '2018': '377,300', '2017':...    Not   \n",
       "2  R8394770030  {'2019': '355,900', '2018': '309,800', '2017':...    Not   \n",
       "3  R8394770050  {'2019': '403,900', '2018': '352,800', '2017':...    Not   \n",
       "4  R8394770070  {'2019': '0', '2018': '0', '2017': '0', '2016'...    Not   \n",
       "\n",
       "  SideWalks Curb-Gutters Corner isCommercial Year Built Commercial Group Type  \\\n",
       "0                      N                   1                           OFFICE   \n",
       "1                      N                   1       2014                         \n",
       "2                      N                   1       2014                         \n",
       "3                      N                   1       2014                         \n",
       "4                      N                   1                                    \n",
       "\n",
       "  Remodel Year  ... Pool Sq Ft Total Sq Ft Main Floor Sq Ft Upper Floor Sq Ft  \\\n",
       "0            0  ...                                                             \n",
       "1               ...          0        1879             1444               435   \n",
       "2               ...          0        1562             1562                 0   \n",
       "3               ...          0        1686             1109               577   \n",
       "4               ...                                                             \n",
       "\n",
       "  Finished Lower Sq Ft Unfinished Lower Sq Ft Finished Basement Floor Sq Ft  \\\n",
       "0                                                                             \n",
       "1                                                                             \n",
       "2                                                                             \n",
       "3                                                                             \n",
       "4                                                                             \n",
       "\n",
       "  Unfinished Basement Floor Sq Ft Finished Attic Sq Ft Unfinished Attic Sq Ft  \n",
       "0                                                                              \n",
       "1                               0                    0                         \n",
       "2                               0                    0                         \n",
       "3                               0                    0                         \n",
       "4                                                                              \n",
       "\n",
       "[5 rows x 37 columns]"
      ]
     },
     "execution_count": 3,
     "metadata": {},
     "output_type": "execute_result"
    }
   ],
   "source": [
    "noisyDF= pd.read_pickle(path)\n",
    "noisyDF.head()"
   ]
  },
  {
   "cell_type": "markdown",
   "metadata": {},
   "source": [
    "## Missing Data Analysis"
   ]
  },
  {
   "cell_type": "code",
   "execution_count": 4,
   "metadata": {},
   "outputs": [
    {
     "name": "stdout",
     "output_type": "stream",
     "text": [
      "'You got a clean Dataframe'\n"
     ]
    }
   ],
   "source": [
    "pprint(dc.checkNAN(noisyDF))"
   ]
  },
  {
   "cell_type": "code",
   "execution_count": 5,
   "metadata": {},
   "outputs": [],
   "source": [
    "noisyDF= noisyDF.replace('', math.nan)"
   ]
  },
  {
   "cell_type": "code",
   "execution_count": 6,
   "metadata": {},
   "outputs": [
    {
     "name": "stdout",
     "output_type": "stream",
     "text": [
      "{'Air Conditioning': '20.1784%',\n",
      " 'Car Storage Sq Ft #1': '20.2750%',\n",
      " 'Car Storage Sq Ft #2': '20.2750%',\n",
      " 'Commercial Group Type': '95.1384%',\n",
      " 'Corner': '100.0000%',\n",
      " 'Curb-Gutters': '4.2536%',\n",
      " 'Deck Covered': '20.2750%',\n",
      " 'Deck Sq Ft': '19.5231%',\n",
      " 'Finished Attic Sq Ft': '20.2750%',\n",
      " 'Finished Basement Floor Sq Ft': '100.0000%',\n",
      " 'Finished Lower Sq Ft': '100.0000%',\n",
      " 'General Purpose Building Sq Ft': '20.2750%',\n",
      " 'Ground Floor Sq Ft': '95.1384%',\n",
      " 'Leasable Sq Ft': '95.1384%',\n",
      " 'Main Floor Sq Ft': '20.2750%',\n",
      " 'Number of Bathrooms': '19.3866%',\n",
      " 'Number of Bedrooms': '20.1422%',\n",
      " 'Number of FirePlaces': '20.2750%',\n",
      " 'Number of Floors': '99.4975%',\n",
      " 'Number of Units': '95.1384%',\n",
      " 'Patio Covered': '20.2750%',\n",
      " 'Patio Sq Ft': '20.2750%',\n",
      " 'Pool Sq Ft': '20.2750%',\n",
      " 'Porch Sq Ft': '20.2750%',\n",
      " 'Remodel Year': '95.1384%',\n",
      " 'SideWalks': '14.1233%',\n",
      " 'Street': '3.8115%',\n",
      " 'Total Sq Ft': '19.5730%',\n",
      " 'Total Square Feet': '95.1384%',\n",
      " 'Unfinished Attic Sq Ft': '99.6792%',\n",
      " 'Unfinished Basement Floor Sq Ft': '20.2750%',\n",
      " 'Unfinished Lower Sq Ft': '100.0000%',\n",
      " 'Upper Floor Sq Ft': '20.2750%',\n",
      " 'Year Built': '19.2055%'}\n"
     ]
    }
   ],
   "source": [
    "pprint(dc.checkNAN(noisyDF))"
   ]
  },
  {
   "cell_type": "markdown",
   "metadata": {},
   "source": [
    "**Dropping features missing 100% data**"
   ]
  },
  {
   "cell_type": "code",
   "execution_count": 7,
   "metadata": {},
   "outputs": [],
   "source": [
    "noisyDF= noisyDF.drop('Unfinished Lower Sq Ft', axis=1).drop('Finished Lower Sq Ft', axis=1).drop('Finished Basement Floor Sq Ft', axis=1).drop('Corner', axis=1)"
   ]
  },
  {
   "cell_type": "code",
   "execution_count": 8,
   "metadata": {},
   "outputs": [
    {
     "name": "stdout",
     "output_type": "stream",
     "text": [
      "{'Air Conditioning': '20.1784%',\n",
      " 'Car Storage Sq Ft #1': '20.2750%',\n",
      " 'Car Storage Sq Ft #2': '20.2750%',\n",
      " 'Commercial Group Type': '95.1384%',\n",
      " 'Curb-Gutters': '4.2536%',\n",
      " 'Deck Covered': '20.2750%',\n",
      " 'Deck Sq Ft': '19.5231%',\n",
      " 'Finished Attic Sq Ft': '20.2750%',\n",
      " 'General Purpose Building Sq Ft': '20.2750%',\n",
      " 'Ground Floor Sq Ft': '95.1384%',\n",
      " 'Leasable Sq Ft': '95.1384%',\n",
      " 'Main Floor Sq Ft': '20.2750%',\n",
      " 'Number of Bathrooms': '19.3866%',\n",
      " 'Number of Bedrooms': '20.1422%',\n",
      " 'Number of FirePlaces': '20.2750%',\n",
      " 'Number of Floors': '99.4975%',\n",
      " 'Number of Units': '95.1384%',\n",
      " 'Patio Covered': '20.2750%',\n",
      " 'Patio Sq Ft': '20.2750%',\n",
      " 'Pool Sq Ft': '20.2750%',\n",
      " 'Porch Sq Ft': '20.2750%',\n",
      " 'Remodel Year': '95.1384%',\n",
      " 'SideWalks': '14.1233%',\n",
      " 'Street': '3.8115%',\n",
      " 'Total Sq Ft': '19.5730%',\n",
      " 'Total Square Feet': '95.1384%',\n",
      " 'Unfinished Attic Sq Ft': '99.6792%',\n",
      " 'Unfinished Basement Floor Sq Ft': '20.2750%',\n",
      " 'Upper Floor Sq Ft': '20.2750%',\n",
      " 'Year Built': '19.2055%'}\n"
     ]
    }
   ],
   "source": [
    "pprint(dc.checkNAN(noisyDF))"
   ]
  },
  {
   "cell_type": "markdown",
   "metadata": {},
   "source": [
    "**From the list above, I will highlight a few of the fields for which boolean features can be generated.**\n",
    "   1.  'Air Conditioning': 'hasAirConditioning'\n",
    "   2.  'Car Storage Sq Ft #1': 'hasCarStorage1'\n",
    "   3.  'Car Storage Sq Ft #2': 'hasCarStorage2'\n",
    "   4.  'Commercial Group Type': \n",
    "   5.  'Deck Covered': 'isDeckCovered'\n",
    "   6.  'Deck Sq Ft': 'hasDeck'\n",
    "   7.  'Finished Attic Sq Ft': 'hasFinishedAttic'\n",
    "   8.  'Ground Floor Sq Ft': 'hasGroundFloor'\n",
    "   9.  'Leasable Sq Ft': 'hasLeasableGround'\n",
    "   10. 'Number of Bathrooms': 'hasBathroom'\n",
    "   11. 'Number of Bedrooms': 'hasBedrooms'\n",
    "   12. 'Numer of Fireplaces': 'hasFireplace'\n",
    "   13. 'Number of Floors': 'hasMoreFloors'\n",
    "   14. 'Number of Units': 'hasMoreUnits'\n",
    "   15. 'Patio Covered': 'isPatioCovered'\n",
    "   16. 'Patio Sq Ft': 'hasPatio'\n",
    "   17. 'Pool Sq Ft': 'hasPool'\n",
    "   18. 'Porch Sq Ft': 'hasPorch'\n",
    "   19. 'Remodel Year': 'isRemodeled'\n",
    "   20. 'SideWalks': 'hasSideWalk'\n",
    "   21. 'Street': 'isStreetFacing'\n",
    "   22. 'Upper Floor Sq Ft': 'hasUpperFloor'\n",
    "   \n",
    "## Generating New Features"
   ]
  },
  {
   "cell_type": "code",
   "execution_count": 9,
   "metadata": {},
   "outputs": [],
   "source": [
    "newCols= {'Air Conditioning': 'hasAirConditioning',\n",
    "          'Car Storage Sq Ft #1': 'hasCarStorage1',\n",
    "          'Car Storage Sq Ft #2': 'hasCarStorage2',\n",
    "          'Deck Covered': 'isDeckCovered',\n",
    "          'Deck Sq Ft': 'hasDeck',\n",
    "          'Finished Attic Sq Ft': 'hasFinishedAttic',\n",
    "          'Ground Floor Sq Ft': 'hasGroundFloor',\n",
    "          'Leasable Sq Ft': 'hasLeasableGround',\n",
    "          'Number of Bathrooms': 'hasBathroom',\n",
    "          'Number of Bedrooms': 'hasBedrooms',\n",
    "          'Number of FirePlaces': 'hasFireplace',\n",
    "          'Number of Floors': 'hasMoreFloors',\n",
    "          'Number of Units': 'hasMoreUnits',\n",
    "          'Patio Covered': 'isPatioCovered',\n",
    "          'Patio Sq Ft': 'hasPatio',\n",
    "          'Pool Sq Ft': 'hasPool',\n",
    "          'Porch Sq Ft': 'hasPorch',\n",
    "          'Remodel Year': 'isRemodeled',\n",
    "          'SideWalks': 'hasSideWalk',\n",
    "          'Street': 'isStreetFacing',\n",
    "          'Upper Floor Sq Ft': 'hasUpperFloor'}"
   ]
  },
  {
   "cell_type": "code",
   "execution_count": 10,
   "metadata": {},
   "outputs": [],
   "source": [
    "noisyDF= noisyDF.replace(math.nan, 'nan')"
   ]
  },
  {
   "cell_type": "code",
   "execution_count": 11,
   "metadata": {},
   "outputs": [],
   "source": [
    "for col, boolCol in newCols.items():\n",
    "    noisyDF[boolCol]= noisyDF[col].apply(lambda x: 'False' if x == 'nan' else 'True')"
   ]
  },
  {
   "cell_type": "code",
   "execution_count": 12,
   "metadata": {},
   "outputs": [
    {
     "name": "stdout",
     "output_type": "stream",
     "text": [
      "Index(['Parcel', 'Price Hist', 'Street', 'SideWalks', 'Curb-Gutters',\n",
      "       'isCommercial', 'Year Built', 'Commercial Group Type', 'Remodel Year',\n",
      "       'Number of Floors', 'Number of Units', 'Leasable Sq Ft',\n",
      "       'Ground Floor Sq Ft', 'Total Square Feet', 'Number of Bedrooms',\n",
      "       'Number of Bathrooms', 'Number of FirePlaces', 'Air Conditioning',\n",
      "       'Car Storage Sq Ft #1', 'Car Storage Sq Ft #2',\n",
      "       'General Purpose Building Sq Ft', 'Porch Sq Ft', 'Deck Sq Ft',\n",
      "       'Deck Covered', 'Patio Sq Ft', 'Patio Covered', 'Pool Sq Ft',\n",
      "       'Total Sq Ft', 'Main Floor Sq Ft', 'Upper Floor Sq Ft',\n",
      "       'Unfinished Basement Floor Sq Ft', 'Finished Attic Sq Ft',\n",
      "       'Unfinished Attic Sq Ft', 'hasAirConditioning', 'hasCarStorage1',\n",
      "       'hasCarStorage2', 'isDeckCovered', 'hasDeck', 'hasFinishedAttic',\n",
      "       'hasGroundFloor', 'hasLeasableGround', 'hasBathroom', 'hasBedrooms',\n",
      "       'hasFireplace', 'hasMoreFloors', 'hasMoreUnits', 'isPatioCovered',\n",
      "       'hasPatio', 'hasPool', 'hasPorch', 'isRemodeled', 'hasSideWalk',\n",
      "       'isStreetFacing', 'hasUpperFloor'],\n",
      "      dtype='object')\n"
     ]
    }
   ],
   "source": [
    "pprint(noisyDF.columns)"
   ]
  },
  {
   "cell_type": "code",
   "execution_count": 13,
   "metadata": {},
   "outputs": [
    {
     "data": {
      "text/plain": [
       "array(['False', 'True'], dtype=object)"
      ]
     },
     "execution_count": 13,
     "metadata": {},
     "output_type": "execute_result"
    }
   ],
   "source": [
    "noisyDF['hasUpperFloor'].unique()"
   ]
  },
  {
   "cell_type": "markdown",
   "metadata": {},
   "source": [
    "Now that we have new features, we need to decide what to do with nan's. Let's look at features missing more than **50%** of their data"
   ]
  },
  {
   "cell_type": "code",
   "execution_count": 14,
   "metadata": {},
   "outputs": [],
   "source": [
    "noisyDF= noisyDF.replace('nan',math.nan)"
   ]
  },
  {
   "cell_type": "code",
   "execution_count": 15,
   "metadata": {},
   "outputs": [
    {
     "name": "stdout",
     "output_type": "stream",
     "text": [
      "{'Commercial Group Type': '95.1384%',\n",
      " 'Ground Floor Sq Ft': '95.1384%',\n",
      " 'Leasable Sq Ft': '95.1384%',\n",
      " 'Number of Floors': '99.4975%',\n",
      " 'Number of Units': '95.1384%',\n",
      " 'Remodel Year': '95.1384%',\n",
      " 'Total Square Feet': '95.1384%',\n",
      " 'Unfinished Attic Sq Ft': '99.6792%'}\n"
     ]
    }
   ],
   "source": [
    "majorMissing= dc.majorMissing(noisyDF)\n",
    "pprint(majorMissing)"
   ]
  },
  {
   "cell_type": "markdown",
   "metadata": {},
   "source": [
    "-----------------------------------------------------------------------------------------------------------------------\n",
    "-----------------------------------------------------------------------------------------------------------------------\n",
    "6 of the 8 features are missing same percent of data, **95.1384%**. One of the question coming to my mind is **Are they missing values for the same houses?**\n",
    "For this, let's look at if they have the same *index*."
   ]
  },
  {
   "cell_type": "code",
   "execution_count": 16,
   "metadata": {},
   "outputs": [],
   "source": [
    "missingIndices= {'Commercial Group Type':list(),\n",
    "                'Ground Floor Sq Ft':list(),\n",
    "                'Leasable Sq Ft': list(),\n",
    "                'Number of Units':list(),\n",
    "                'Remodel Year':list(),\n",
    "                'Total Square Feet':list()}\n",
    "for key in missingIndices.keys():\n",
    "    missingIndices[key]= noisyDF[noisyDF[key].isna()].index"
   ]
  },
  {
   "cell_type": "code",
   "execution_count": 17,
   "metadata": {},
   "outputs": [
    {
     "data": {
      "text/plain": [
       "{'Commercial Group Type': Int64Index([     1,      2,      3,      4,      5,      6,      7,      8,\n",
       "                  9,     10,\n",
       "             ...\n",
       "             190441, 190442, 190443, 190444, 190445, 190446, 190447, 190448,\n",
       "             190449, 190450],\n",
       "            dtype='int64', length=181192),\n",
       " 'Ground Floor Sq Ft': Int64Index([     1,      2,      3,      4,      5,      6,      7,      8,\n",
       "                  9,     10,\n",
       "             ...\n",
       "             190441, 190442, 190443, 190444, 190445, 190446, 190447, 190448,\n",
       "             190449, 190450],\n",
       "            dtype='int64', length=181192),\n",
       " 'Leasable Sq Ft': Int64Index([     1,      2,      3,      4,      5,      6,      7,      8,\n",
       "                  9,     10,\n",
       "             ...\n",
       "             190441, 190442, 190443, 190444, 190445, 190446, 190447, 190448,\n",
       "             190449, 190450],\n",
       "            dtype='int64', length=181192),\n",
       " 'Number of Units': Int64Index([     1,      2,      3,      4,      5,      6,      7,      8,\n",
       "                  9,     10,\n",
       "             ...\n",
       "             190441, 190442, 190443, 190444, 190445, 190446, 190447, 190448,\n",
       "             190449, 190450],\n",
       "            dtype='int64', length=181192),\n",
       " 'Remodel Year': Int64Index([     1,      2,      3,      4,      5,      6,      7,      8,\n",
       "                  9,     10,\n",
       "             ...\n",
       "             190441, 190442, 190443, 190444, 190445, 190446, 190447, 190448,\n",
       "             190449, 190450],\n",
       "            dtype='int64', length=181192),\n",
       " 'Total Square Feet': Int64Index([     1,      2,      3,      4,      5,      6,      7,      8,\n",
       "                  9,     10,\n",
       "             ...\n",
       "             190441, 190442, 190443, 190444, 190445, 190446, 190447, 190448,\n",
       "             190449, 190450],\n",
       "            dtype='int64', length=181192)}"
      ]
     },
     "execution_count": 17,
     "metadata": {},
     "output_type": "execute_result"
    }
   ],
   "source": [
    "missingIndices"
   ]
  },
  {
   "cell_type": "code",
   "execution_count": 18,
   "metadata": {},
   "outputs": [],
   "source": [
    "def checkIfEqual(lst1, lst2):\n",
    "    return sorted(lst1) == sorted(lst2)"
   ]
  },
  {
   "cell_type": "code",
   "execution_count": 19,
   "metadata": {},
   "outputs": [
    {
     "name": "stdout",
     "output_type": "stream",
     "text": [
      "Ground Floor Sq Ft , Commercial Group Type --> True\n",
      "Leasable Sq Ft , Ground Floor Sq Ft --> True\n",
      "Number of Units , Leasable Sq Ft --> True\n",
      "Remodel Year , Number of Units --> True\n",
      "Total Square Feet , Remodel Year --> True\n"
     ]
    }
   ],
   "source": [
    "i=0\n",
    "prev= ''\n",
    "for key,col in missingIndices.items():\n",
    "    if i == 0:\n",
    "        prev= key\n",
    "        prevCol= col\n",
    "        i+= 1\n",
    "    else:\n",
    "        print(key,',', prev,'-->',checkIfEqual(col,prevCol))\n",
    "        prev= key\n",
    "        prevCol= col\n",
    "        i+= 1"
   ]
  },
  {
   "cell_type": "markdown",
   "metadata": {},
   "source": [
    "So these features are missing data for same houses.\n",
    "***So if a house doesn't have Ground Floor, Leasable Sq Ft, Number of Units,Remodel Year, Total Square Feet, what does it imply?***\n",
    "\n",
    "--------------------------------------------------------------------------------------------------------------------------\n",
    "---------------------------------------------------------------------------------------------------------------------------\n",
    "Looking at majorMissing again, these features are missing almost all of their data so dropping these features."
   ]
  },
  {
   "cell_type": "code",
   "execution_count": 20,
   "metadata": {},
   "outputs": [],
   "source": [
    "for key in majorMissing.keys():\n",
    "    noisyDF= noisyDF.drop(key, axis= 1)"
   ]
  },
  {
   "cell_type": "code",
   "execution_count": 21,
   "metadata": {},
   "outputs": [
    {
     "data": {
      "text/plain": [
       "46"
      ]
     },
     "execution_count": 21,
     "metadata": {},
     "output_type": "execute_result"
    }
   ],
   "source": [
    "len(noisyDF.columns)"
   ]
  },
  {
   "cell_type": "code",
   "execution_count": 22,
   "metadata": {},
   "outputs": [
    {
     "name": "stdout",
     "output_type": "stream",
     "text": [
      "{'Air Conditioning': '20.1784%',\n",
      " 'Car Storage Sq Ft #1': '20.2750%',\n",
      " 'Car Storage Sq Ft #2': '20.2750%',\n",
      " 'Curb-Gutters': '4.2536%',\n",
      " 'Deck Covered': '20.2750%',\n",
      " 'Deck Sq Ft': '19.5231%',\n",
      " 'Finished Attic Sq Ft': '20.2750%',\n",
      " 'General Purpose Building Sq Ft': '20.2750%',\n",
      " 'Main Floor Sq Ft': '20.2750%',\n",
      " 'Number of Bathrooms': '19.3866%',\n",
      " 'Number of Bedrooms': '20.1422%',\n",
      " 'Number of FirePlaces': '20.2750%',\n",
      " 'Patio Covered': '20.2750%',\n",
      " 'Patio Sq Ft': '20.2750%',\n",
      " 'Pool Sq Ft': '20.2750%',\n",
      " 'Porch Sq Ft': '20.2750%',\n",
      " 'SideWalks': '14.1233%',\n",
      " 'Street': '3.8115%',\n",
      " 'Total Sq Ft': '19.5730%',\n",
      " 'Unfinished Basement Floor Sq Ft': '20.2750%',\n",
      " 'Upper Floor Sq Ft': '20.2750%',\n",
      " 'Year Built': '19.2055%'}\n"
     ]
    }
   ],
   "source": [
    "missing= dc.checkNAN(noisyDF)\n",
    "pprint(missing)"
   ]
  },
  {
   "cell_type": "code",
   "execution_count": 23,
   "metadata": {},
   "outputs": [
    {
     "data": {
      "text/html": [
       "<div>\n",
       "<style scoped>\n",
       "    .dataframe tbody tr th:only-of-type {\n",
       "        vertical-align: middle;\n",
       "    }\n",
       "\n",
       "    .dataframe tbody tr th {\n",
       "        vertical-align: top;\n",
       "    }\n",
       "\n",
       "    .dataframe thead th {\n",
       "        text-align: right;\n",
       "    }\n",
       "</style>\n",
       "<table border=\"1\" class=\"dataframe\">\n",
       "  <thead>\n",
       "    <tr style=\"text-align: right;\">\n",
       "      <th></th>\n",
       "      <th>Street</th>\n",
       "      <th>SideWalks</th>\n",
       "      <th>Curb-Gutters</th>\n",
       "      <th>Year Built</th>\n",
       "      <th>Number of Bedrooms</th>\n",
       "      <th>Number of Bathrooms</th>\n",
       "      <th>Number of FirePlaces</th>\n",
       "      <th>Air Conditioning</th>\n",
       "      <th>Car Storage Sq Ft #1</th>\n",
       "      <th>Car Storage Sq Ft #2</th>\n",
       "      <th>...</th>\n",
       "      <th>Deck Sq Ft</th>\n",
       "      <th>Deck Covered</th>\n",
       "      <th>Patio Sq Ft</th>\n",
       "      <th>Patio Covered</th>\n",
       "      <th>Pool Sq Ft</th>\n",
       "      <th>Total Sq Ft</th>\n",
       "      <th>Main Floor Sq Ft</th>\n",
       "      <th>Upper Floor Sq Ft</th>\n",
       "      <th>Unfinished Basement Floor Sq Ft</th>\n",
       "      <th>Finished Attic Sq Ft</th>\n",
       "    </tr>\n",
       "  </thead>\n",
       "  <tbody>\n",
       "    <tr>\n",
       "      <th>count</th>\n",
       "      <td>183192</td>\n",
       "      <td>163553</td>\n",
       "      <td>182350</td>\n",
       "      <td>153874</td>\n",
       "      <td>152090</td>\n",
       "      <td>153529</td>\n",
       "      <td>151837</td>\n",
       "      <td>152021</td>\n",
       "      <td>151837</td>\n",
       "      <td>151837</td>\n",
       "      <td>...</td>\n",
       "      <td>153269</td>\n",
       "      <td>151837</td>\n",
       "      <td>151837</td>\n",
       "      <td>151837</td>\n",
       "      <td>151837</td>\n",
       "      <td>153174</td>\n",
       "      <td>151837</td>\n",
       "      <td>151837</td>\n",
       "      <td>151837</td>\n",
       "      <td>151837</td>\n",
       "    </tr>\n",
       "    <tr>\n",
       "      <th>unique</th>\n",
       "      <td>4</td>\n",
       "      <td>2</td>\n",
       "      <td>2</td>\n",
       "      <td>141</td>\n",
       "      <td>14</td>\n",
       "      <td>46</td>\n",
       "      <td>8</td>\n",
       "      <td>2</td>\n",
       "      <td>2052</td>\n",
       "      <td>1104</td>\n",
       "      <td>...</td>\n",
       "      <td>1001</td>\n",
       "      <td>2</td>\n",
       "      <td>1346</td>\n",
       "      <td>2</td>\n",
       "      <td>447</td>\n",
       "      <td>5659</td>\n",
       "      <td>3997</td>\n",
       "      <td>2389</td>\n",
       "      <td>1353</td>\n",
       "      <td>1032</td>\n",
       "    </tr>\n",
       "    <tr>\n",
       "      <th>top</th>\n",
       "      <td>Asphalt/Concrete</td>\n",
       "      <td>Y</td>\n",
       "      <td>Y</td>\n",
       "      <td>2005</td>\n",
       "      <td>3</td>\n",
       "      <td>2.0</td>\n",
       "      <td>1</td>\n",
       "      <td>Y</td>\n",
       "      <td>0</td>\n",
       "      <td>0</td>\n",
       "      <td>...</td>\n",
       "      <td>0</td>\n",
       "      <td>N</td>\n",
       "      <td>0</td>\n",
       "      <td>N</td>\n",
       "      <td>0</td>\n",
       "      <td>0</td>\n",
       "      <td>0</td>\n",
       "      <td>0</td>\n",
       "      <td>0</td>\n",
       "      <td>0</td>\n",
       "    </tr>\n",
       "    <tr>\n",
       "      <th>freq</th>\n",
       "      <td>140633</td>\n",
       "      <td>112541</td>\n",
       "      <td>119985</td>\n",
       "      <td>6650</td>\n",
       "      <td>79096</td>\n",
       "      <td>57585</td>\n",
       "      <td>94963</td>\n",
       "      <td>139314</td>\n",
       "      <td>9525</td>\n",
       "      <td>144894</td>\n",
       "      <td>...</td>\n",
       "      <td>126678</td>\n",
       "      <td>144372</td>\n",
       "      <td>20976</td>\n",
       "      <td>82773</td>\n",
       "      <td>147722</td>\n",
       "      <td>1584</td>\n",
       "      <td>1587</td>\n",
       "      <td>101392</td>\n",
       "      <td>145414</td>\n",
       "      <td>140426</td>\n",
       "    </tr>\n",
       "  </tbody>\n",
       "</table>\n",
       "<p>4 rows × 22 columns</p>\n",
       "</div>"
      ],
      "text/plain": [
       "                  Street SideWalks Curb-Gutters Year Built Number of Bedrooms  \\\n",
       "count             183192    163553       182350     153874             152090   \n",
       "unique                 4         2            2        141                 14   \n",
       "top     Asphalt/Concrete         Y            Y       2005                  3   \n",
       "freq              140633    112541       119985       6650              79096   \n",
       "\n",
       "       Number of Bathrooms Number of FirePlaces Air Conditioning  \\\n",
       "count               153529               151837           152021   \n",
       "unique                  46                    8                2   \n",
       "top                    2.0                    1                Y   \n",
       "freq                 57585                94963           139314   \n",
       "\n",
       "       Car Storage Sq Ft #1 Car Storage Sq Ft #2  ... Deck Sq Ft Deck Covered  \\\n",
       "count                151837               151837  ...     153269       151837   \n",
       "unique                 2052                 1104  ...       1001            2   \n",
       "top                       0                    0  ...          0            N   \n",
       "freq                   9525               144894  ...     126678       144372   \n",
       "\n",
       "       Patio Sq Ft Patio Covered Pool Sq Ft Total Sq Ft Main Floor Sq Ft  \\\n",
       "count       151837        151837     151837      153174           151837   \n",
       "unique        1346             2        447        5659             3997   \n",
       "top              0             N          0           0                0   \n",
       "freq         20976         82773     147722        1584             1587   \n",
       "\n",
       "       Upper Floor Sq Ft Unfinished Basement Floor Sq Ft Finished Attic Sq Ft  \n",
       "count             151837                          151837               151837  \n",
       "unique              2389                            1353                 1032  \n",
       "top                    0                               0                    0  \n",
       "freq              101392                          145414               140426  \n",
       "\n",
       "[4 rows x 22 columns]"
      ]
     },
     "execution_count": 23,
     "metadata": {},
     "output_type": "execute_result"
    }
   ],
   "source": [
    "noisyDF[missing.keys()].describe()"
   ]
  },
  {
   "cell_type": "markdown",
   "metadata": {},
   "source": [
    "Some of these features nan's value correspond to N. Such as **SideWalks, Curb Gutters, AirConditioning, Deck Covered, Patio Covered.**\n",
    "We already have boolean fields for **AirConditioning, Deck Covered, Patio Covered.** So reducing redundancy in our data and dropping these features."
   ]
  },
  {
   "cell_type": "code",
   "execution_count": 24,
   "metadata": {},
   "outputs": [],
   "source": [
    "noisyDF= noisyDF.drop('Air Conditioning', axis=1).drop('Deck Covered',axis=1).drop('Patio Covered', axis=1)"
   ]
  },
  {
   "cell_type": "code",
   "execution_count": 25,
   "metadata": {},
   "outputs": [
    {
     "name": "stdout",
     "output_type": "stream",
     "text": [
      "{'Car Storage Sq Ft #1': '20.2750%',\n",
      " 'Car Storage Sq Ft #2': '20.2750%',\n",
      " 'Curb-Gutters': '4.2536%',\n",
      " 'Deck Sq Ft': '19.5231%',\n",
      " 'Finished Attic Sq Ft': '20.2750%',\n",
      " 'General Purpose Building Sq Ft': '20.2750%',\n",
      " 'Main Floor Sq Ft': '20.2750%',\n",
      " 'Number of Bathrooms': '19.3866%',\n",
      " 'Number of Bedrooms': '20.1422%',\n",
      " 'Number of FirePlaces': '20.2750%',\n",
      " 'Patio Sq Ft': '20.2750%',\n",
      " 'Pool Sq Ft': '20.2750%',\n",
      " 'Porch Sq Ft': '20.2750%',\n",
      " 'SideWalks': '14.1233%',\n",
      " 'Street': '3.8115%',\n",
      " 'Total Sq Ft': '19.5730%',\n",
      " 'Unfinished Basement Floor Sq Ft': '20.2750%',\n",
      " 'Upper Floor Sq Ft': '20.2750%',\n",
      " 'Year Built': '19.2055%'}\n"
     ]
    }
   ],
   "source": [
    "missing= dc.checkNAN(noisyDF)\n",
    "pprint(missing)"
   ]
  },
  {
   "cell_type": "markdown",
   "metadata": {},
   "source": [
    "Differentiating between discrete and continous data. Looking at the number of unique values for each feature."
   ]
  },
  {
   "cell_type": "code",
   "execution_count": 26,
   "metadata": {},
   "outputs": [
    {
     "name": "stdout",
     "output_type": "stream",
     "text": [
      "Street : 0.00263 %\n",
      "SideWalks : 0.00158 %\n",
      "Curb-Gutters : 0.00158 %\n",
      "Year Built : 0.0746 %\n",
      "Number of Bedrooms : 0.00788 %\n",
      "Number of Bathrooms : 0.0247 %\n",
      "Number of FirePlaces : 0.00473 %\n",
      "Car Storage Sq Ft #1 : 1.08 %\n",
      "Car Storage Sq Ft #2 : 0.58 %\n",
      "General Purpose Building Sq Ft : 0.472 %\n",
      "Porch Sq Ft : 0.41 %\n",
      "Deck Sq Ft : 0.526 %\n",
      "Patio Sq Ft : 0.707 %\n",
      "Pool Sq Ft : 0.235 %\n",
      "Total Sq Ft : 2.97 %\n",
      "Main Floor Sq Ft : 2.1 %\n",
      "Upper Floor Sq Ft : 1.25 %\n",
      "Unfinished Basement Floor Sq Ft : 0.711 %\n",
      "Finished Attic Sq Ft : 0.542 %\n"
     ]
    }
   ],
   "source": [
    "categs= dc.getCateg(noisyDF, missing.keys())\n",
    "for k, v in categs.items():\n",
    "    print(k, ':',f'{(len(v)/len(noisyDF[k]))*100:.3g}','%')"
   ]
  },
  {
   "cell_type": "markdown",
   "metadata": {},
   "source": [
    "Looking at the proportion of unique values in the whole dataset, I am inclined to treat these features as categorical. ***But should we really?***"
   ]
  },
  {
   "cell_type": "markdown",
   "metadata": {},
   "source": [
    "Treating them as **categorical.** Using *fixCateg* function from *dataClean.py*\n",
    "The fixCateg function replaces the nan taking into consideration the proportion of classes of the features. Weights are assigned to each class. The dominant class will have a lower weight and vice versa.\n",
    "\n",
    "I thought of different approaches. Replace nan's with the mode of the class, or replace nan's with median of the class (if discrete). "
   ]
  },
  {
   "cell_type": "code",
   "execution_count": 27,
   "metadata": {},
   "outputs": [],
   "source": [
    "lessNoisyDF= dc.fixCateg(noisyDF, missing.keys())"
   ]
  },
  {
   "cell_type": "code",
   "execution_count": 28,
   "metadata": {},
   "outputs": [
    {
     "data": {
      "text/plain": [
       "'You got a clean Dataframe'"
      ]
     },
     "execution_count": 28,
     "metadata": {},
     "output_type": "execute_result"
    }
   ],
   "source": [
    "dc.checkNAN(lessNoisyDF)"
   ]
  },
  {
   "cell_type": "code",
   "execution_count": 29,
   "metadata": {},
   "outputs": [
    {
     "name": "stdout",
     "output_type": "stream",
     "text": [
      "<class 'pandas.core.frame.DataFrame'>\n",
      "RangeIndex: 190451 entries, 0 to 190450\n",
      "Data columns (total 43 columns):\n",
      "Parcel                             190451 non-null object\n",
      "Price Hist                         190451 non-null object\n",
      "Street                             190451 non-null object\n",
      "SideWalks                          190451 non-null object\n",
      "Curb-Gutters                       190451 non-null object\n",
      "isCommercial                       190451 non-null object\n",
      "Year Built                         190451 non-null object\n",
      "Number of Bedrooms                 190451 non-null object\n",
      "Number of Bathrooms                190451 non-null object\n",
      "Number of FirePlaces               190451 non-null object\n",
      "Car Storage Sq Ft #1               190451 non-null object\n",
      "Car Storage Sq Ft #2               190451 non-null object\n",
      "General Purpose Building Sq Ft     190451 non-null object\n",
      "Porch Sq Ft                        190451 non-null object\n",
      "Deck Sq Ft                         190451 non-null object\n",
      "Patio Sq Ft                        190451 non-null object\n",
      "Pool Sq Ft                         190451 non-null object\n",
      "Total Sq Ft                        190451 non-null object\n",
      "Main Floor Sq Ft                   190451 non-null object\n",
      "Upper Floor Sq Ft                  190451 non-null object\n",
      "Unfinished Basement Floor Sq Ft    190451 non-null object\n",
      "Finished Attic Sq Ft               190451 non-null object\n",
      "hasAirConditioning                 190451 non-null object\n",
      "hasCarStorage1                     190451 non-null object\n",
      "hasCarStorage2                     190451 non-null object\n",
      "isDeckCovered                      190451 non-null object\n",
      "hasDeck                            190451 non-null object\n",
      "hasFinishedAttic                   190451 non-null object\n",
      "hasGroundFloor                     190451 non-null object\n",
      "hasLeasableGround                  190451 non-null object\n",
      "hasBathroom                        190451 non-null object\n",
      "hasBedrooms                        190451 non-null object\n",
      "hasFireplace                       190451 non-null object\n",
      "hasMoreFloors                      190451 non-null object\n",
      "hasMoreUnits                       190451 non-null object\n",
      "isPatioCovered                     190451 non-null object\n",
      "hasPatio                           190451 non-null object\n",
      "hasPool                            190451 non-null object\n",
      "hasPorch                           190451 non-null object\n",
      "isRemodeled                        190451 non-null object\n",
      "hasSideWalk                        190451 non-null object\n",
      "isStreetFacing                     190451 non-null object\n",
      "hasUpperFloor                      190451 non-null object\n",
      "dtypes: object(43)\n",
      "memory usage: 62.5+ MB\n"
     ]
    }
   ],
   "source": [
    "lessNoisyDF.info()"
   ]
  },
  {
   "cell_type": "markdown",
   "metadata": {},
   "source": [
    "Now we have a clean dataframe. Let's set our target variable."
   ]
  },
  {
   "cell_type": "code",
   "execution_count": 30,
   "metadata": {},
   "outputs": [
    {
     "data": {
      "text/plain": [
       "0    {'2019': '2,595,200', '2018': '2,521,100', '20...\n",
       "1    {'2019': '431,800', '2018': '377,300', '2017':...\n",
       "2    {'2019': '355,900', '2018': '309,800', '2017':...\n",
       "3    {'2019': '403,900', '2018': '352,800', '2017':...\n",
       "4    {'2019': '0', '2018': '0', '2017': '0', '2016'...\n",
       "Name: Price Hist, dtype: object"
      ]
     },
     "execution_count": 30,
     "metadata": {},
     "output_type": "execute_result"
    }
   ],
   "source": [
    "lessNoisyDF['Price Hist'].head()"
   ]
  },
  {
   "cell_type": "code",
   "execution_count": 31,
   "metadata": {},
   "outputs": [],
   "source": [
    "lessNoisyDF['Price']= lessNoisyDF['Price Hist'].apply(lambda x: x.get('2019'))"
   ]
  },
  {
   "cell_type": "code",
   "execution_count": 32,
   "metadata": {},
   "outputs": [
    {
     "data": {
      "text/plain": [
       "Index(['Parcel', 'Price Hist', 'Street', 'SideWalks', 'Curb-Gutters',\n",
       "       'isCommercial', 'Year Built', 'Number of Bedrooms',\n",
       "       'Number of Bathrooms', 'Number of FirePlaces', 'Car Storage Sq Ft #1',\n",
       "       'Car Storage Sq Ft #2', 'General Purpose Building Sq Ft', 'Porch Sq Ft',\n",
       "       'Deck Sq Ft', 'Patio Sq Ft', 'Pool Sq Ft', 'Total Sq Ft',\n",
       "       'Main Floor Sq Ft', 'Upper Floor Sq Ft',\n",
       "       'Unfinished Basement Floor Sq Ft', 'Finished Attic Sq Ft',\n",
       "       'hasAirConditioning', 'hasCarStorage1', 'hasCarStorage2',\n",
       "       'isDeckCovered', 'hasDeck', 'hasFinishedAttic', 'hasGroundFloor',\n",
       "       'hasLeasableGround', 'hasBathroom', 'hasBedrooms', 'hasFireplace',\n",
       "       'hasMoreFloors', 'hasMoreUnits', 'isPatioCovered', 'hasPatio',\n",
       "       'hasPool', 'hasPorch', 'isRemodeled', 'hasSideWalk', 'isStreetFacing',\n",
       "       'hasUpperFloor', 'Price'],\n",
       "      dtype='object')"
      ]
     },
     "execution_count": 32,
     "metadata": {},
     "output_type": "execute_result"
    }
   ],
   "source": [
    "lessNoisyDF.columns"
   ]
  },
  {
   "cell_type": "markdown",
   "metadata": {},
   "source": [
    "The **PriceHist** column has a dictionary which has the past prices for the house. So we need to *explode* this dictionary and have the keys as columns, eg. PriceIn2018, PriceIn2017...."
   ]
  },
  {
   "cell_type": "code",
   "execution_count": 33,
   "metadata": {},
   "outputs": [],
   "source": [
    "yearLst= ['2018','2017','2016','2015','2014','2013','2012','2011','2010','2009','2008']"
   ]
  },
  {
   "cell_type": "code",
   "execution_count": 34,
   "metadata": {},
   "outputs": [],
   "source": [
    "for year in yearLst:\n",
    "    colName= 'PriceIn'+year\n",
    "    lessNoisyDF[colName]= lessNoisyDF['Price Hist'].apply(lambda x: x.get(year))"
   ]
  },
  {
   "cell_type": "code",
   "execution_count": 35,
   "metadata": {},
   "outputs": [
    {
     "data": {
      "text/plain": [
       "Index(['Parcel', 'Price Hist', 'Street', 'SideWalks', 'Curb-Gutters',\n",
       "       'isCommercial', 'Year Built', 'Number of Bedrooms',\n",
       "       'Number of Bathrooms', 'Number of FirePlaces', 'Car Storage Sq Ft #1',\n",
       "       'Car Storage Sq Ft #2', 'General Purpose Building Sq Ft', 'Porch Sq Ft',\n",
       "       'Deck Sq Ft', 'Patio Sq Ft', 'Pool Sq Ft', 'Total Sq Ft',\n",
       "       'Main Floor Sq Ft', 'Upper Floor Sq Ft',\n",
       "       'Unfinished Basement Floor Sq Ft', 'Finished Attic Sq Ft',\n",
       "       'hasAirConditioning', 'hasCarStorage1', 'hasCarStorage2',\n",
       "       'isDeckCovered', 'hasDeck', 'hasFinishedAttic', 'hasGroundFloor',\n",
       "       'hasLeasableGround', 'hasBathroom', 'hasBedrooms', 'hasFireplace',\n",
       "       'hasMoreFloors', 'hasMoreUnits', 'isPatioCovered', 'hasPatio',\n",
       "       'hasPool', 'hasPorch', 'isRemodeled', 'hasSideWalk', 'isStreetFacing',\n",
       "       'hasUpperFloor', 'Price', 'PriceIn2018', 'PriceIn2017', 'PriceIn2016',\n",
       "       'PriceIn2015', 'PriceIn2014', 'PriceIn2013', 'PriceIn2012',\n",
       "       'PriceIn2011', 'PriceIn2010', 'PriceIn2009', 'PriceIn2008'],\n",
       "      dtype='object')"
      ]
     },
     "execution_count": 35,
     "metadata": {},
     "output_type": "execute_result"
    }
   ],
   "source": [
    "lessNoisyDF.columns"
   ]
  },
  {
   "cell_type": "code",
   "execution_count": 36,
   "metadata": {},
   "outputs": [
    {
     "data": {
      "text/plain": [
       "(190451, 55)"
      ]
     },
     "execution_count": 36,
     "metadata": {},
     "output_type": "execute_result"
    }
   ],
   "source": [
    "lessNoisyDF.shape"
   ]
  },
  {
   "cell_type": "markdown",
   "metadata": {},
   "source": [
    "## Write Dataset to file"
   ]
  },
  {
   "cell_type": "code",
   "execution_count": 37,
   "metadata": {},
   "outputs": [],
   "source": [
    "lessNoisyDF.to_pickle('CleanSet.pkl')"
   ]
  }
 ],
 "metadata": {
  "kernelspec": {
   "display_name": "Python 3",
   "language": "python",
   "name": "python3"
  },
  "language_info": {
   "codemirror_mode": {
    "name": "ipython",
    "version": 3
   },
   "file_extension": ".py",
   "mimetype": "text/x-python",
   "name": "python",
   "nbconvert_exporter": "python",
   "pygments_lexer": "ipython3",
   "version": "3.7.3"
  }
 },
 "nbformat": 4,
 "nbformat_minor": 2
}
