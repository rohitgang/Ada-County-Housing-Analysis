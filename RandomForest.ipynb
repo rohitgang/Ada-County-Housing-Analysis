{
 "cells": [
  {
   "cell_type": "code",
   "execution_count": 36,
   "metadata": {},
   "outputs": [],
   "source": [
    "import pandas as pd\n",
    "import numpy as np\n",
    "import math\n",
    "import matplotlib.pyplot as plt\n",
    "from matplotlib.pyplot import figure\n",
    "import seaborn as sns"
   ]
  },
  {
   "cell_type": "code",
   "execution_count": 2,
   "metadata": {},
   "outputs": [],
   "source": [
    "cleanest= pd.read_pickle('final.pkl')"
   ]
  },
  {
   "cell_type": "code",
   "execution_count": 3,
   "metadata": {},
   "outputs": [
    {
     "data": {
      "text/html": [
       "<div>\n",
       "<style scoped>\n",
       "    .dataframe tbody tr th:only-of-type {\n",
       "        vertical-align: middle;\n",
       "    }\n",
       "\n",
       "    .dataframe tbody tr th {\n",
       "        vertical-align: top;\n",
       "    }\n",
       "\n",
       "    .dataframe thead th {\n",
       "        text-align: right;\n",
       "    }\n",
       "</style>\n",
       "<table border=\"1\" class=\"dataframe\">\n",
       "  <thead>\n",
       "    <tr style=\"text-align: right;\">\n",
       "      <th></th>\n",
       "      <th>PriceIn2018</th>\n",
       "      <th>PriceIn2017</th>\n",
       "      <th>PriceIn2016</th>\n",
       "      <th>PriceIn2015</th>\n",
       "      <th>PriceIn2014</th>\n",
       "      <th>PriceIn2013</th>\n",
       "      <th>PriceIn2011</th>\n",
       "      <th>PriceIn2012</th>\n",
       "      <th>PriceIn2010</th>\n",
       "      <th>PriceIn2009</th>\n",
       "      <th>...</th>\n",
       "      <th>Car Storage Sq Ft #1</th>\n",
       "      <th>Deck Sq Ft</th>\n",
       "      <th>Pool Sq Ft</th>\n",
       "      <th>Upper Floor Sq Ft</th>\n",
       "      <th>Finished Attic Sq Ft</th>\n",
       "      <th>Unfinished Basement Floor Sq Ft</th>\n",
       "      <th>Patio Sq Ft</th>\n",
       "      <th>Car Storage Sq Ft #2</th>\n",
       "      <th>Porch Sq Ft</th>\n",
       "      <th>Price</th>\n",
       "    </tr>\n",
       "    <tr>\n",
       "      <th>Parcel</th>\n",
       "      <th></th>\n",
       "      <th></th>\n",
       "      <th></th>\n",
       "      <th></th>\n",
       "      <th></th>\n",
       "      <th></th>\n",
       "      <th></th>\n",
       "      <th></th>\n",
       "      <th></th>\n",
       "      <th></th>\n",
       "      <th></th>\n",
       "      <th></th>\n",
       "      <th></th>\n",
       "      <th></th>\n",
       "      <th></th>\n",
       "      <th></th>\n",
       "      <th></th>\n",
       "      <th></th>\n",
       "      <th></th>\n",
       "      <th></th>\n",
       "      <th></th>\n",
       "    </tr>\n",
       "  </thead>\n",
       "  <tbody>\n",
       "    <tr>\n",
       "      <th>R8394770330</th>\n",
       "      <td>2521100.0</td>\n",
       "      <td>2471600.0</td>\n",
       "      <td>2385500.0</td>\n",
       "      <td>2138300.0</td>\n",
       "      <td>2138200.0</td>\n",
       "      <td>2056400.0</td>\n",
       "      <td>1811200.0</td>\n",
       "      <td>1983800.0</td>\n",
       "      <td>1741300.0</td>\n",
       "      <td>1269300.0</td>\n",
       "      <td>...</td>\n",
       "      <td>821.0</td>\n",
       "      <td>89.0</td>\n",
       "      <td>128.0</td>\n",
       "      <td>702.0</td>\n",
       "      <td>437.0</td>\n",
       "      <td>1144.0</td>\n",
       "      <td>1234.0</td>\n",
       "      <td>700.0</td>\n",
       "      <td>483.0</td>\n",
       "      <td>2595200.0</td>\n",
       "    </tr>\n",
       "    <tr>\n",
       "      <th>R8394770010</th>\n",
       "      <td>377300.0</td>\n",
       "      <td>322400.0</td>\n",
       "      <td>304800.0</td>\n",
       "      <td>286900.0</td>\n",
       "      <td>154400.0</td>\n",
       "      <td>17500.0</td>\n",
       "      <td>44200.0</td>\n",
       "      <td>10000.0</td>\n",
       "      <td>52000.0</td>\n",
       "      <td>52000.0</td>\n",
       "      <td>...</td>\n",
       "      <td>487.0</td>\n",
       "      <td>0.0</td>\n",
       "      <td>0.0</td>\n",
       "      <td>435.0</td>\n",
       "      <td>0.0</td>\n",
       "      <td>0.0</td>\n",
       "      <td>138.0</td>\n",
       "      <td>0.0</td>\n",
       "      <td>131.0</td>\n",
       "      <td>431800.0</td>\n",
       "    </tr>\n",
       "    <tr>\n",
       "      <th>R8394770030</th>\n",
       "      <td>309800.0</td>\n",
       "      <td>265600.0</td>\n",
       "      <td>250600.0</td>\n",
       "      <td>235000.0</td>\n",
       "      <td>158800.0</td>\n",
       "      <td>17500.0</td>\n",
       "      <td>44200.0</td>\n",
       "      <td>10000.0</td>\n",
       "      <td>52000.0</td>\n",
       "      <td>52000.0</td>\n",
       "      <td>...</td>\n",
       "      <td>400.0</td>\n",
       "      <td>0.0</td>\n",
       "      <td>0.0</td>\n",
       "      <td>0.0</td>\n",
       "      <td>0.0</td>\n",
       "      <td>0.0</td>\n",
       "      <td>230.0</td>\n",
       "      <td>0.0</td>\n",
       "      <td>0.0</td>\n",
       "      <td>355900.0</td>\n",
       "    </tr>\n",
       "    <tr>\n",
       "      <th>R8394770050</th>\n",
       "      <td>352800.0</td>\n",
       "      <td>301500.0</td>\n",
       "      <td>284500.0</td>\n",
       "      <td>267900.0</td>\n",
       "      <td>99400.0</td>\n",
       "      <td>15800.0</td>\n",
       "      <td>40000.0</td>\n",
       "      <td>9000.0</td>\n",
       "      <td>47000.0</td>\n",
       "      <td>47000.0</td>\n",
       "      <td>...</td>\n",
       "      <td>489.0</td>\n",
       "      <td>30.0</td>\n",
       "      <td>0.0</td>\n",
       "      <td>577.0</td>\n",
       "      <td>0.0</td>\n",
       "      <td>0.0</td>\n",
       "      <td>184.0</td>\n",
       "      <td>0.0</td>\n",
       "      <td>59.0</td>\n",
       "      <td>403900.0</td>\n",
       "    </tr>\n",
       "    <tr>\n",
       "      <th>R8394770090</th>\n",
       "      <td>352600.0</td>\n",
       "      <td>301400.0</td>\n",
       "      <td>284400.0</td>\n",
       "      <td>267700.0</td>\n",
       "      <td>59400.0</td>\n",
       "      <td>15800.0</td>\n",
       "      <td>40000.0</td>\n",
       "      <td>9000.0</td>\n",
       "      <td>47000.0</td>\n",
       "      <td>47000.0</td>\n",
       "      <td>...</td>\n",
       "      <td>418.0</td>\n",
       "      <td>0.0</td>\n",
       "      <td>0.0</td>\n",
       "      <td>392.0</td>\n",
       "      <td>0.0</td>\n",
       "      <td>0.0</td>\n",
       "      <td>259.0</td>\n",
       "      <td>0.0</td>\n",
       "      <td>0.0</td>\n",
       "      <td>403700.0</td>\n",
       "    </tr>\n",
       "  </tbody>\n",
       "</table>\n",
       "<p>5 rows × 61 columns</p>\n",
       "</div>"
      ],
      "text/plain": [
       "             PriceIn2018  PriceIn2017  PriceIn2016  PriceIn2015  PriceIn2014  \\\n",
       "Parcel                                                                         \n",
       "R8394770330    2521100.0    2471600.0    2385500.0    2138300.0    2138200.0   \n",
       "R8394770010     377300.0     322400.0     304800.0     286900.0     154400.0   \n",
       "R8394770030     309800.0     265600.0     250600.0     235000.0     158800.0   \n",
       "R8394770050     352800.0     301500.0     284500.0     267900.0      99400.0   \n",
       "R8394770090     352600.0     301400.0     284400.0     267700.0      59400.0   \n",
       "\n",
       "             PriceIn2013  PriceIn2011  PriceIn2012  PriceIn2010  PriceIn2009  \\\n",
       "Parcel                                                                         \n",
       "R8394770330    2056400.0    1811200.0    1983800.0    1741300.0    1269300.0   \n",
       "R8394770010      17500.0      44200.0      10000.0      52000.0      52000.0   \n",
       "R8394770030      17500.0      44200.0      10000.0      52000.0      52000.0   \n",
       "R8394770050      15800.0      40000.0       9000.0      47000.0      47000.0   \n",
       "R8394770090      15800.0      40000.0       9000.0      47000.0      47000.0   \n",
       "\n",
       "             ...  Car Storage Sq Ft #1  Deck Sq Ft  Pool Sq Ft  \\\n",
       "Parcel       ...                                                 \n",
       "R8394770330  ...                 821.0        89.0       128.0   \n",
       "R8394770010  ...                 487.0         0.0         0.0   \n",
       "R8394770030  ...                 400.0         0.0         0.0   \n",
       "R8394770050  ...                 489.0        30.0         0.0   \n",
       "R8394770090  ...                 418.0         0.0         0.0   \n",
       "\n",
       "             Upper Floor Sq Ft  Finished Attic Sq Ft  \\\n",
       "Parcel                                                 \n",
       "R8394770330              702.0                 437.0   \n",
       "R8394770010              435.0                   0.0   \n",
       "R8394770030                0.0                   0.0   \n",
       "R8394770050              577.0                   0.0   \n",
       "R8394770090              392.0                   0.0   \n",
       "\n",
       "             Unfinished Basement Floor Sq Ft  Patio Sq Ft  \\\n",
       "Parcel                                                      \n",
       "R8394770330                           1144.0       1234.0   \n",
       "R8394770010                              0.0        138.0   \n",
       "R8394770030                              0.0        230.0   \n",
       "R8394770050                              0.0        184.0   \n",
       "R8394770090                              0.0        259.0   \n",
       "\n",
       "             Car Storage Sq Ft #2  Porch Sq Ft      Price  \n",
       "Parcel                                                     \n",
       "R8394770330                 700.0        483.0  2595200.0  \n",
       "R8394770010                   0.0        131.0   431800.0  \n",
       "R8394770030                   0.0          0.0   355900.0  \n",
       "R8394770050                   0.0         59.0   403900.0  \n",
       "R8394770090                   0.0          0.0   403700.0  \n",
       "\n",
       "[5 rows x 61 columns]"
      ]
     },
     "execution_count": 3,
     "metadata": {},
     "output_type": "execute_result"
    }
   ],
   "source": [
    "cleanest.head()"
   ]
  },
  {
   "cell_type": "code",
   "execution_count": 4,
   "metadata": {},
   "outputs": [],
   "source": [
    "x= cleanest.iloc[:,0:60]"
   ]
  },
  {
   "cell_type": "code",
   "execution_count": 5,
   "metadata": {},
   "outputs": [
    {
     "data": {
      "text/html": [
       "<div>\n",
       "<style scoped>\n",
       "    .dataframe tbody tr th:only-of-type {\n",
       "        vertical-align: middle;\n",
       "    }\n",
       "\n",
       "    .dataframe tbody tr th {\n",
       "        vertical-align: top;\n",
       "    }\n",
       "\n",
       "    .dataframe thead th {\n",
       "        text-align: right;\n",
       "    }\n",
       "</style>\n",
       "<table border=\"1\" class=\"dataframe\">\n",
       "  <thead>\n",
       "    <tr style=\"text-align: right;\">\n",
       "      <th></th>\n",
       "      <th>PriceIn2018</th>\n",
       "      <th>PriceIn2017</th>\n",
       "      <th>PriceIn2016</th>\n",
       "      <th>PriceIn2015</th>\n",
       "      <th>PriceIn2014</th>\n",
       "      <th>PriceIn2013</th>\n",
       "      <th>PriceIn2011</th>\n",
       "      <th>PriceIn2012</th>\n",
       "      <th>PriceIn2010</th>\n",
       "      <th>PriceIn2009</th>\n",
       "      <th>...</th>\n",
       "      <th>Number of Bathrooms</th>\n",
       "      <th>Car Storage Sq Ft #1</th>\n",
       "      <th>Deck Sq Ft</th>\n",
       "      <th>Pool Sq Ft</th>\n",
       "      <th>Upper Floor Sq Ft</th>\n",
       "      <th>Finished Attic Sq Ft</th>\n",
       "      <th>Unfinished Basement Floor Sq Ft</th>\n",
       "      <th>Patio Sq Ft</th>\n",
       "      <th>Car Storage Sq Ft #2</th>\n",
       "      <th>Porch Sq Ft</th>\n",
       "    </tr>\n",
       "    <tr>\n",
       "      <th>Parcel</th>\n",
       "      <th></th>\n",
       "      <th></th>\n",
       "      <th></th>\n",
       "      <th></th>\n",
       "      <th></th>\n",
       "      <th></th>\n",
       "      <th></th>\n",
       "      <th></th>\n",
       "      <th></th>\n",
       "      <th></th>\n",
       "      <th></th>\n",
       "      <th></th>\n",
       "      <th></th>\n",
       "      <th></th>\n",
       "      <th></th>\n",
       "      <th></th>\n",
       "      <th></th>\n",
       "      <th></th>\n",
       "      <th></th>\n",
       "      <th></th>\n",
       "      <th></th>\n",
       "    </tr>\n",
       "  </thead>\n",
       "  <tbody>\n",
       "    <tr>\n",
       "      <th>R8394770330</th>\n",
       "      <td>2521100.0</td>\n",
       "      <td>2471600.0</td>\n",
       "      <td>2385500.0</td>\n",
       "      <td>2138300.0</td>\n",
       "      <td>2138200.0</td>\n",
       "      <td>2056400.0</td>\n",
       "      <td>1811200.0</td>\n",
       "      <td>1983800.0</td>\n",
       "      <td>1741300.0</td>\n",
       "      <td>1269300.0</td>\n",
       "      <td>...</td>\n",
       "      <td>2.25</td>\n",
       "      <td>821.0</td>\n",
       "      <td>89.0</td>\n",
       "      <td>128.0</td>\n",
       "      <td>702.0</td>\n",
       "      <td>437.0</td>\n",
       "      <td>1144.0</td>\n",
       "      <td>1234.0</td>\n",
       "      <td>700.0</td>\n",
       "      <td>483.0</td>\n",
       "    </tr>\n",
       "    <tr>\n",
       "      <th>R8394770010</th>\n",
       "      <td>377300.0</td>\n",
       "      <td>322400.0</td>\n",
       "      <td>304800.0</td>\n",
       "      <td>286900.0</td>\n",
       "      <td>154400.0</td>\n",
       "      <td>17500.0</td>\n",
       "      <td>44200.0</td>\n",
       "      <td>10000.0</td>\n",
       "      <td>52000.0</td>\n",
       "      <td>52000.0</td>\n",
       "      <td>...</td>\n",
       "      <td>2.50</td>\n",
       "      <td>487.0</td>\n",
       "      <td>0.0</td>\n",
       "      <td>0.0</td>\n",
       "      <td>435.0</td>\n",
       "      <td>0.0</td>\n",
       "      <td>0.0</td>\n",
       "      <td>138.0</td>\n",
       "      <td>0.0</td>\n",
       "      <td>131.0</td>\n",
       "    </tr>\n",
       "    <tr>\n",
       "      <th>R8394770030</th>\n",
       "      <td>309800.0</td>\n",
       "      <td>265600.0</td>\n",
       "      <td>250600.0</td>\n",
       "      <td>235000.0</td>\n",
       "      <td>158800.0</td>\n",
       "      <td>17500.0</td>\n",
       "      <td>44200.0</td>\n",
       "      <td>10000.0</td>\n",
       "      <td>52000.0</td>\n",
       "      <td>52000.0</td>\n",
       "      <td>...</td>\n",
       "      <td>2.00</td>\n",
       "      <td>400.0</td>\n",
       "      <td>0.0</td>\n",
       "      <td>0.0</td>\n",
       "      <td>0.0</td>\n",
       "      <td>0.0</td>\n",
       "      <td>0.0</td>\n",
       "      <td>230.0</td>\n",
       "      <td>0.0</td>\n",
       "      <td>0.0</td>\n",
       "    </tr>\n",
       "    <tr>\n",
       "      <th>R8394770050</th>\n",
       "      <td>352800.0</td>\n",
       "      <td>301500.0</td>\n",
       "      <td>284500.0</td>\n",
       "      <td>267900.0</td>\n",
       "      <td>99400.0</td>\n",
       "      <td>15800.0</td>\n",
       "      <td>40000.0</td>\n",
       "      <td>9000.0</td>\n",
       "      <td>47000.0</td>\n",
       "      <td>47000.0</td>\n",
       "      <td>...</td>\n",
       "      <td>2.50</td>\n",
       "      <td>489.0</td>\n",
       "      <td>30.0</td>\n",
       "      <td>0.0</td>\n",
       "      <td>577.0</td>\n",
       "      <td>0.0</td>\n",
       "      <td>0.0</td>\n",
       "      <td>184.0</td>\n",
       "      <td>0.0</td>\n",
       "      <td>59.0</td>\n",
       "    </tr>\n",
       "    <tr>\n",
       "      <th>R8394770090</th>\n",
       "      <td>352600.0</td>\n",
       "      <td>301400.0</td>\n",
       "      <td>284400.0</td>\n",
       "      <td>267700.0</td>\n",
       "      <td>59400.0</td>\n",
       "      <td>15800.0</td>\n",
       "      <td>40000.0</td>\n",
       "      <td>9000.0</td>\n",
       "      <td>47000.0</td>\n",
       "      <td>47000.0</td>\n",
       "      <td>...</td>\n",
       "      <td>2.50</td>\n",
       "      <td>418.0</td>\n",
       "      <td>0.0</td>\n",
       "      <td>0.0</td>\n",
       "      <td>392.0</td>\n",
       "      <td>0.0</td>\n",
       "      <td>0.0</td>\n",
       "      <td>259.0</td>\n",
       "      <td>0.0</td>\n",
       "      <td>0.0</td>\n",
       "    </tr>\n",
       "  </tbody>\n",
       "</table>\n",
       "<p>5 rows × 60 columns</p>\n",
       "</div>"
      ],
      "text/plain": [
       "             PriceIn2018  PriceIn2017  PriceIn2016  PriceIn2015  PriceIn2014  \\\n",
       "Parcel                                                                         \n",
       "R8394770330    2521100.0    2471600.0    2385500.0    2138300.0    2138200.0   \n",
       "R8394770010     377300.0     322400.0     304800.0     286900.0     154400.0   \n",
       "R8394770030     309800.0     265600.0     250600.0     235000.0     158800.0   \n",
       "R8394770050     352800.0     301500.0     284500.0     267900.0      99400.0   \n",
       "R8394770090     352600.0     301400.0     284400.0     267700.0      59400.0   \n",
       "\n",
       "             PriceIn2013  PriceIn2011  PriceIn2012  PriceIn2010  PriceIn2009  \\\n",
       "Parcel                                                                         \n",
       "R8394770330    2056400.0    1811200.0    1983800.0    1741300.0    1269300.0   \n",
       "R8394770010      17500.0      44200.0      10000.0      52000.0      52000.0   \n",
       "R8394770030      17500.0      44200.0      10000.0      52000.0      52000.0   \n",
       "R8394770050      15800.0      40000.0       9000.0      47000.0      47000.0   \n",
       "R8394770090      15800.0      40000.0       9000.0      47000.0      47000.0   \n",
       "\n",
       "             ...  Number of Bathrooms  Car Storage Sq Ft #1  Deck Sq Ft  \\\n",
       "Parcel       ...                                                          \n",
       "R8394770330  ...                 2.25                 821.0        89.0   \n",
       "R8394770010  ...                 2.50                 487.0         0.0   \n",
       "R8394770030  ...                 2.00                 400.0         0.0   \n",
       "R8394770050  ...                 2.50                 489.0        30.0   \n",
       "R8394770090  ...                 2.50                 418.0         0.0   \n",
       "\n",
       "             Pool Sq Ft  Upper Floor Sq Ft  Finished Attic Sq Ft  \\\n",
       "Parcel                                                             \n",
       "R8394770330       128.0              702.0                 437.0   \n",
       "R8394770010         0.0              435.0                   0.0   \n",
       "R8394770030         0.0                0.0                   0.0   \n",
       "R8394770050         0.0              577.0                   0.0   \n",
       "R8394770090         0.0              392.0                   0.0   \n",
       "\n",
       "             Unfinished Basement Floor Sq Ft  Patio Sq Ft  \\\n",
       "Parcel                                                      \n",
       "R8394770330                           1144.0       1234.0   \n",
       "R8394770010                              0.0        138.0   \n",
       "R8394770030                              0.0        230.0   \n",
       "R8394770050                              0.0        184.0   \n",
       "R8394770090                              0.0        259.0   \n",
       "\n",
       "             Car Storage Sq Ft #2  Porch Sq Ft  \n",
       "Parcel                                          \n",
       "R8394770330                 700.0        483.0  \n",
       "R8394770010                   0.0        131.0  \n",
       "R8394770030                   0.0          0.0  \n",
       "R8394770050                   0.0         59.0  \n",
       "R8394770090                   0.0          0.0  \n",
       "\n",
       "[5 rows x 60 columns]"
      ]
     },
     "execution_count": 5,
     "metadata": {},
     "output_type": "execute_result"
    }
   ],
   "source": [
    "x.head()"
   ]
  },
  {
   "cell_type": "code",
   "execution_count": 6,
   "metadata": {},
   "outputs": [
    {
     "data": {
      "text/plain": [
       "Parcel\n",
       "R8394770330    2595200.0\n",
       "R8394770010     431800.0\n",
       "R8394770030     355900.0\n",
       "R8394770050     403900.0\n",
       "R8394770090     403700.0\n",
       "Name: Price, dtype: float64"
      ]
     },
     "execution_count": 6,
     "metadata": {},
     "output_type": "execute_result"
    }
   ],
   "source": [
    "y= cleanest.iloc[:,-1]\n",
    "y.head()"
   ]
  },
  {
   "cell_type": "markdown",
   "metadata": {},
   "source": [
    "### Importing necessary libraries"
   ]
  },
  {
   "cell_type": "code",
   "execution_count": 8,
   "metadata": {},
   "outputs": [],
   "source": [
    "from sklearn.ensemble import RandomForestRegressor\n",
    "from sklearn.model_selection import cross_val_score\n",
    "from sklearn.decomposition import PCA\n",
    "from sklearn.model_selection import train_test_split\n",
    "from sklearn.metrics import mean_squared_error, r2_score"
   ]
  },
  {
   "cell_type": "markdown",
   "metadata": {},
   "source": [
    "### Performing Principal Component Analysis"
   ]
  },
  {
   "cell_type": "code",
   "execution_count": 17,
   "metadata": {},
   "outputs": [],
   "source": [
    "cols= []\n",
    "for i in range(30):\n",
    "    cols.append('Component_'+str(i))\n",
    "pca= PCA(n_components= 30)\n",
    "components= pca.fit_transform(x)\n",
    "principalFinal= pd.DataFrame(data= components, columns= cols)"
   ]
  },
  {
   "cell_type": "markdown",
   "metadata": {},
   "source": [
    "### Checking the correlations"
   ]
  },
  {
   "cell_type": "code",
   "execution_count": 39,
   "metadata": {},
   "outputs": [
    {
     "data": {
      "text/plain": [
       "<matplotlib.axes._subplots.AxesSubplot at 0x1b20134d400>"
      ]
     },
     "execution_count": 39,
     "metadata": {},
     "output_type": "execute_result"
    },
    {
     "data": {
      "image/png": "[encoded data removed]",
      "text/plain": [
       "<Figure size 720x720 with 2 Axes>"
      ]
     },
     "metadata": {
      "needs_background": "light"
     },
     "output_type": "display_data"
    }
   ],
   "source": [
    "corr= principalFinal.corr()\n",
    "figure(figsize= (10,10))\n",
    "sns.heatmap(corr)"
   ]
  },
  {
   "cell_type": "markdown",
   "metadata": {},
   "source": [
    "### Splitting Datasets into train and test"
   ]
  },
  {
   "cell_type": "code",
   "execution_count": 18,
   "metadata": {},
   "outputs": [],
   "source": [
    "x_train, x_test, y_train, y_test= train_test_split(principalFinal,\n",
    "                                                   y,\n",
    "                                                  test_size= 0.20,\n",
    "                                                  random_state=42)"
   ]
  },
  {
   "cell_type": "markdown",
   "metadata": {},
   "source": [
    "## Training a random forest model"
   ]
  },
  {
   "cell_type": "code",
   "execution_count": 31,
   "metadata": {},
   "outputs": [],
   "source": [
    "rfr= RandomForestRegressor(max_depth=50,\n",
    "                          n_estimators= 60)"
   ]
  },
  {
   "cell_type": "code",
   "execution_count": 32,
   "metadata": {},
   "outputs": [
    {
     "data": {
      "text/plain": [
       "RandomForestRegressor(bootstrap=True, criterion='mse', max_depth=50,\n",
       "           max_features='auto', max_leaf_nodes=None,\n",
       "           min_impurity_decrease=0.0, min_impurity_split=None,\n",
       "           min_samples_leaf=1, min_samples_split=2,\n",
       "           min_weight_fraction_leaf=0.0, n_estimators=60, n_jobs=None,\n",
       "           oob_score=False, random_state=None, verbose=0, warm_start=False)"
      ]
     },
     "execution_count": 32,
     "metadata": {},
     "output_type": "execute_result"
    }
   ],
   "source": [
    "rfr.fit(x_train, y_train)"
   ]
  },
  {
   "cell_type": "code",
   "execution_count": 33,
   "metadata": {},
   "outputs": [],
   "source": [
    "pred_y= rfr.predict(x_test)"
   ]
  },
  {
   "cell_type": "markdown",
   "metadata": {},
   "source": [
    "## Evaluation"
   ]
  },
  {
   "cell_type": "code",
   "execution_count": 34,
   "metadata": {},
   "outputs": [
    {
     "name": "stdout",
     "output_type": "stream",
     "text": [
      "RMSE: 329601.85\n"
     ]
    }
   ],
   "source": [
    "print('RMSE:', round(math.sqrt(mean_squared_error(pred_y, y_test)),2))"
   ]
  },
  {
   "cell_type": "code",
   "execution_count": 35,
   "metadata": {},
   "outputs": [
    {
     "name": "stdout",
     "output_type": "stream",
     "text": [
      "R2 score: 0.8991327292829916\n"
     ]
    }
   ],
   "source": [
    "print('R2 score:', r2_score(pred_y, y_test))"
   ]
  }
 ],
 "metadata": {
  "kernelspec": {
   "display_name": "Python 3",
   "language": "python",
   "name": "python3"
  },
  "language_info": {
   "codemirror_mode": {
    "name": "ipython",
    "version": 3
   },
   "file_extension": ".py",
   "mimetype": "text/x-python",
   "name": "python",
   "nbconvert_exporter": "python",
   "pygments_lexer": "ipython3",
   "version": "3.7.3"
  }
 },
 "nbformat": 4,
 "nbformat_minor": 2
}
